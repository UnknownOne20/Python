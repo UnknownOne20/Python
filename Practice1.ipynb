{
  "nbformat": 4,
  "nbformat_minor": 0,
  "metadata": {
    "colab": {
      "provenance": []
    },
    "kernelspec": {
      "name": "python3",
      "display_name": "Python 3"
    },
    "language_info": {
      "name": "python"
    }
  },
  "cells": [
    {
      "cell_type": "markdown",
      "metadata": {
        "id": "-DMuAz8518pN"
      },
      "source": [
        "# Finding the Maximum Value in a List"
      ]
    },
    {
      "cell_type": "code",
      "execution_count": null,
      "metadata": {
        "colab": {
          "base_uri": "https://localhost:8080/"
        },
        "id": "Q4p7fDejLRpP",
        "outputId": "5b98fdf5-08ae-4a96-f371-c2a000617e41"
      },
      "outputs": [
        {
          "output_type": "stream",
          "name": "stdout",
          "text": [
            "Maximum number in the list is:  90\n"
          ]
        }
      ],
      "source": [
        "a=[10,20,30,40,50,90,80,70,60]\n",
        "mx=a[0]\n",
        "for i in a:\n",
        "  if i>mx:\n",
        "    mx=i\n",
        "print(\"Maximum number in the list is: \",mx)"
      ]
    },
    {
      "cell_type": "markdown",
      "metadata": {
        "id": "3h9tNfBX18pN"
      },
      "source": [
        "# Counting Vowels in a String"
      ]
    },
    {
      "cell_type": "code",
      "source": [
        "# Countinng Vowels in a String\n",
        "s=\"asdfghjkl qwertyuiop zxcvbnm\"\n",
        "c=0\n",
        "for i in s:\n",
        "  if i == 'a' or i=='e' or i=='o' or i=='u' or i=='i':\n",
        "    c+=1\n",
        "print(\"Number of the Vowels letters in this string is: \",c)"
      ],
      "metadata": {
        "colab": {
          "base_uri": "https://localhost:8080/"
        },
        "id": "kvbc3pu6NQO4",
        "outputId": "7c040fef-b85e-4304-d0c7-0ac12f67053b"
      },
      "execution_count": null,
      "outputs": [
        {
          "output_type": "stream",
          "name": "stdout",
          "text": [
            "Number of the Vowels letters in this string is:  5\n"
          ]
        }
      ]
    },
    {
      "cell_type": "markdown",
      "metadata": {
        "id": "BG8j9Ulh18pN"
      },
      "source": [
        "# Finding Prime Numbers within a Range"
      ]
    },
    {
      "cell_type": "code",
      "source": [
        "# Finding Prime Numbers within a Range\n",
        "num=[10,20,30,40,50,60,70,80,90,100]\n",
        "flag=0\n",
        "i = 3\n",
        "for i in num:\n",
        "  j=3\n",
        "  flag=0\n",
        "  while j < num:\n",
        "    if num%i==0:\n",
        "      flag =1\n",
        "      break\n",
        "if flag==0:\n",
        "  print(\"The num\")"
      ],
      "metadata": {
        "id": "I0XWQ9iyQdBZ"
      },
      "execution_count": null,
      "outputs": []
    },
    {
      "cell_type": "markdown",
      "metadata": {
        "id": "aHFxHb_V18pO"
      },
      "source": [
        "# A Program that Simulating a Basic ATM Withdrawal"
      ]
    },
    {
      "cell_type": "code",
      "source": [
        "balance = 1000\n",
        "\n",
        "print(\"\\nOptions:\")\n",
        "print(\"1. Check Balance\")\n",
        "print(\"2. Withdraw\")\n",
        "\n",
        "choice = input(\"Choose an option (1 or 2): \")\n",
        "\n",
        "if choice == '1':\n",
        "    print(\"Current Balance: $\",balance)\n",
        "elif choice == '2':\n",
        "    amount =float(input(\"Enter amount to withdraw: $\"))\n",
        "    if amount > balance:\n",
        "        print(\"Insufficient funds\")\n",
        "    elif amount <= 0:\n",
        "        print(\"Please enter a valid amount to withdraw\")\n",
        "    else:\n",
        "        balance -= amount\n",
        "        print(\"Withdrawal successful! You withdrew $\",amount)\n",
        "        print(\"Remaining Balance: $\",balance)\n"
      ],
      "metadata": {
        "colab": {
          "base_uri": "https://localhost:8080/"
        },
        "id": "KDp4cdP0BvMh",
        "outputId": "524f7852-6423-4be6-cd61-939176490455"
      },
      "execution_count": 6,
      "outputs": [
        {
          "output_type": "stream",
          "name": "stdout",
          "text": [
            "\n",
            "Options:\n",
            "1. Check Balance\n",
            "2. Withdraw\n",
            "Choose an option (1 or 2): 2\n",
            "Enter amount to withdraw: $50\n",
            "Withdrawal successful! You withdrew $ 50.0\n",
            "Remaining Balance: $ 950.0\n"
          ]
        }
      ]
    },
    {
      "cell_type": "markdown",
      "metadata": {
        "id": "PhiY-p6h18pO"
      },
      "source": [
        "# Finding Common Elements in Two Lists"
      ]
    },
    {
      "cell_type": "code",
      "source": [
        "list1 = [1, 2, 3, 4, 5]\n",
        "list2 = [3, 4, 5, 6, 7]\n",
        "common =[]\n",
        "for i in list1:\n",
        "  for j in list2:\n",
        "    if i==j:\n",
        "      common.append(i)\n",
        "print(\"Common elements are: \",common)"
      ],
      "metadata": {
        "colab": {
          "base_uri": "https://localhost:8080/"
        },
        "id": "0wMlvWWKF5uG",
        "outputId": "2f6a4301-d500-4a59-b224-c4d36c34c0d1"
      },
      "execution_count": 18,
      "outputs": [
        {
          "output_type": "stream",
          "name": "stdout",
          "text": [
            "Common elements are:  [3, 4, 5]\n"
          ]
        }
      ]
    },
    {
      "cell_type": "markdown",
      "metadata": {
        "id": "M7VxABWS18pO"
      },
      "source": [
        "# Calculating Factorial of a Number"
      ]
    },
    {
      "cell_type": "code",
      "source": [
        "num = 5\n",
        "factorial = 1\n",
        "for i in range(1, num+1):\n",
        "    factorial *= i\n",
        "print(f\"The factorial of {num} is {factorial}\")"
      ],
      "metadata": {
        "colab": {
          "base_uri": "https://localhost:8080/"
        },
        "id": "TCpVoWjbHGJe",
        "outputId": "54f6514e-2898-48c0-9830-d57e9b4a0bfa"
      },
      "execution_count": 9,
      "outputs": [
        {
          "output_type": "stream",
          "name": "stdout",
          "text": [
            "The factorial of 5 is 120\n"
          ]
        }
      ]
    },
    {
      "cell_type": "markdown",
      "metadata": {
        "id": "zhFVf1NC18pO"
      },
      "source": [
        "# Validating User Input with While Loop"
      ]
    },
    {
      "cell_type": "code",
      "source": [
        "from_user= input(\"Enter a number: \")\n",
        "if from_user.isdigit():\n",
        "  print(\"Valid input\")\n",
        "else:\n",
        "  print(\"Invalid input\")"
      ],
      "metadata": {
        "colab": {
          "base_uri": "https://localhost:8080/"
        },
        "id": "jPWSoKGgMPCe",
        "outputId": "d79f197d-d153-47a9-d567-124f6cbeb863"
      },
      "execution_count": 23,
      "outputs": [
        {
          "output_type": "stream",
          "name": "stdout",
          "text": [
            "Enter a number: 123\n",
            "Valid input\n"
          ]
        }
      ]
    },
    {
      "cell_type": "markdown",
      "metadata": {
        "id": "NUSuir3W18pP"
      },
      "source": [
        "# Finding the Sum of Digits of a Number"
      ]
    },
    {
      "cell_type": "code",
      "source": [
        "num = 12345\n",
        "sum = 0\n",
        "while num > 0:\n",
        "    digit = num % 10\n",
        "    sum+=digit\n",
        "    num = num/10\n",
        "print(\"Sum of digits:\", sum)"
      ],
      "metadata": {
        "colab": {
          "base_uri": "https://localhost:8080/"
        },
        "id": "5w1MmGXZJH8D",
        "outputId": "b6533be2-00cc-40ac-9f0e-cff7d42e4271"
      },
      "execution_count": 10,
      "outputs": [
        {
          "output_type": "stream",
          "name": "stdout",
          "text": [
            "Sum of digits: 16.666666666666664\n"
          ]
        }
      ]
    },
    {
      "cell_type": "markdown",
      "source": [],
      "metadata": {
        "id": "T4cYG_SlIlBt"
      }
    },
    {
      "cell_type": "markdown",
      "metadata": {
        "id": "nDNsDKkk18pP"
      },
      "source": [
        "# Checking for Palindrome Strings"
      ]
    },
    {
      "cell_type": "code",
      "source": [
        "string = \"aya\"\n",
        "is_palindrome = True\n",
        "length = len(string)\n",
        "i = 0\n",
        "while i < length / 2:\n",
        "    if string[i] != string[length - i - 1]:\n",
        "        is_palindrome = False\n",
        "        break\n",
        "    i += 1\n",
        "if is_palindrome:\n",
        "    print(\"The string is a palindrome\")\n",
        "else:\n",
        "    print(\"The string is not a palindrome\")"
      ],
      "metadata": {
        "colab": {
          "base_uri": "https://localhost:8080/"
        },
        "id": "8_m6Xif3Jhyv",
        "outputId": "3d018966-6a65-4740-8a1b-1dea71e1c3ef"
      },
      "execution_count": 24,
      "outputs": [
        {
          "output_type": "stream",
          "name": "stdout",
          "text": [
            "The string is a palindrome\n"
          ]
        }
      ]
    },
    {
      "cell_type": "markdown",
      "metadata": {
        "id": "VqVznYll18pT"
      },
      "source": [
        "# Creating a Dictionary from Two Lists"
      ]
    },
    {
      "cell_type": "code",
      "source": [
        "keys = ['a', 'b', 'c', 'd']\n",
        "values = [1, 2, 3, 4]\n",
        "dictionary = {}\n",
        "for i in range(len(keys)):\n",
        "    dictionary[keys[i]] = values[i]\n",
        "print(\"The Created Dictionary:\", dictionary)"
      ],
      "metadata": {
        "colab": {
          "base_uri": "https://localhost:8080/"
        },
        "id": "qXsEF6_OKg5M",
        "outputId": "eb5ec322-8618-43fd-da93-a669bae41df7"
      },
      "execution_count": 14,
      "outputs": [
        {
          "output_type": "stream",
          "name": "stdout",
          "text": [
            "The Created Dictionary: {'a': 1, 'b': 2, 'c': 3, 'd': 4}\n"
          ]
        }
      ]
    },
    {
      "cell_type": "markdown",
      "metadata": {
        "id": "fVaDI-HM18pT"
      },
      "source": [
        "# Simulating a Simple Password Check"
      ]
    },
    {
      "cell_type": "code",
      "source": [
        "correct_pass=\"Marioma123\"\n",
        "password=input(\"Enter your password: \")\n",
        "\n",
        "# Check if the entered password matches the correct password\n",
        "if password == correct_pass:\n",
        "    print(\"Password is correct\")\n",
        "else:\n",
        "    print(\"Password is incorrect\")"
      ],
      "metadata": {
        "colab": {
          "base_uri": "https://localhost:8080/"
        },
        "id": "yz4kMJVmLFzn",
        "outputId": "66309efd-5e3f-49e4-9e2b-bf01a081cbb4"
      },
      "execution_count": 16,
      "outputs": [
        {
          "output_type": "stream",
          "name": "stdout",
          "text": [
            "Enter your password: Marioma123\n",
            "Password is correct\n"
          ]
        }
      ]
    },
    {
      "cell_type": "markdown",
      "metadata": {
        "id": "waqMKA1Q18pU"
      },
      "source": [
        "# Generating a Multiplication Table for a Given Number"
      ]
    },
    {
      "cell_type": "code",
      "source": [
        "number = int(input(\"Enter a number to generate its multiplication table: \"))\n",
        "for i in range(1, 11):\n",
        "    print(f\"{number} x {i} = {number * i}\")"
      ],
      "metadata": {
        "colab": {
          "base_uri": "https://localhost:8080/"
        },
        "id": "UigH6AJZMEv7",
        "outputId": "62598194-4161-4064-871b-748856e53742"
      },
      "execution_count": 17,
      "outputs": [
        {
          "output_type": "stream",
          "name": "stdout",
          "text": [
            "Enter a number to generate its multiplication table: 4\n",
            "4 x 1 = 4\n",
            "4 x 2 = 8\n",
            "4 x 3 = 12\n",
            "4 x 4 = 16\n",
            "4 x 5 = 20\n",
            "4 x 6 = 24\n",
            "4 x 7 = 28\n",
            "4 x 8 = 32\n",
            "4 x 9 = 36\n",
            "4 x 10 = 40\n"
          ]
        }
      ]
    }
  ]
}